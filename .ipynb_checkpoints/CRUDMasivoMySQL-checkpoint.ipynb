{
 "cells": [
  {
   "cell_type": "code",
   "execution_count": null,
   "metadata": {},
   "outputs": [
    {
     "ename": "",
     "evalue": "",
     "output_type": "error",
     "traceback": [
      "\u001b[1;31mNo se pudo iniciar el Kernel. \n",
      "No se puede iniciar Kernel 'base (Python 3.9.7)' porque se agotó el tiempo de espera de la conexión. \r\n",
      "Vea el [registro] de Jupyter (command:jupyter.viewOutput) para obtener más detalles."
     ]
    }
   ],
   "source": [
    "import csv\n",
    "import pandas as pd\n",
    "from sqlalchemy import create_engine, types\n",
    "import MySQLdb"
   ]
  },
  {
   "cell_type": "code",
   "execution_count": 1,
   "metadata": {},
   "outputs": [
    {
     "ename": "NameError",
     "evalue": "name 'MySQLdb' is not defined",
     "output_type": "error",
     "traceback": [
      "\u001b[1;31m---------------------------------------------------------------------------\u001b[0m",
      "\u001b[1;31mNameError\u001b[0m                                 Traceback (most recent call last)",
      "\u001b[1;32mc:\\Users\\steve\\OneDrive\\Escritorio\\Espe\\Sexto Semestre\\MABDD\\ComparativaBasesDeDatos\\CRUDMasivoMySQL.ipynb Celda 2\u001b[0m in \u001b[0;36m<cell line: 1>\u001b[1;34m()\u001b[0m\n\u001b[1;32m----> <a href='vscode-notebook-cell:/c%3A/Users/steve/OneDrive/Escritorio/Espe/Sexto%20Semestre/MABDD/ComparativaBasesDeDatos/CRUDMasivoMySQL.ipynb#ch0000000?line=0'>1</a>\u001b[0m mydb \u001b[39m=\u001b[39m MySQLdb\u001b[39m.\u001b[39mconnect(host\u001b[39m=\u001b[39m\u001b[39m'\u001b[39m\u001b[39mlocalhost\u001b[39m\u001b[39m'\u001b[39m,\n\u001b[0;32m      <a href='vscode-notebook-cell:/c%3A/Users/steve/OneDrive/Escritorio/Espe/Sexto%20Semestre/MABDD/ComparativaBasesDeDatos/CRUDMasivoMySQL.ipynb#ch0000000?line=1'>2</a>\u001b[0m         user\u001b[39m=\u001b[39m\u001b[39m'\u001b[39m\u001b[39mroot\u001b[39m\u001b[39m'\u001b[39m,\n\u001b[0;32m      <a href='vscode-notebook-cell:/c%3A/Users/steve/OneDrive/Escritorio/Espe/Sexto%20Semestre/MABDD/ComparativaBasesDeDatos/CRUDMasivoMySQL.ipynb#ch0000000?line=2'>3</a>\u001b[0m         passwd\u001b[39m=\u001b[39m\u001b[39m'\u001b[39m\u001b[39m'\u001b[39m,\n\u001b[0;32m      <a href='vscode-notebook-cell:/c%3A/Users/steve/OneDrive/Escritorio/Espe/Sexto%20Semestre/MABDD/ComparativaBasesDeDatos/CRUDMasivoMySQL.ipynb#ch0000000?line=3'>4</a>\u001b[0m         db\u001b[39m=\u001b[39m\u001b[39m'\u001b[39m\u001b[39mrrhh6\u001b[39m\u001b[39m'\u001b[39m)\n\u001b[0;32m      <a href='vscode-notebook-cell:/c%3A/Users/steve/OneDrive/Escritorio/Espe/Sexto%20Semestre/MABDD/ComparativaBasesDeDatos/CRUDMasivoMySQL.ipynb#ch0000000?line=5'>6</a>\u001b[0m \u001b[39mwith\u001b[39;00m \u001b[39mopen\u001b[39m (\u001b[39m'\u001b[39m\u001b[39mjobs.csv\u001b[39m\u001b[39m'\u001b[39m) \u001b[39mas\u001b[39;00m csv_file:\n\u001b[0;32m      <a href='vscode-notebook-cell:/c%3A/Users/steve/OneDrive/Escritorio/Espe/Sexto%20Semestre/MABDD/ComparativaBasesDeDatos/CRUDMasivoMySQL.ipynb#ch0000000?line=6'>7</a>\u001b[0m     csvfile \u001b[39m=\u001b[39m csv\u001b[39m.\u001b[39mreader(csv_file, delimiter\u001b[39m=\u001b[39m\u001b[39m'\u001b[39m\u001b[39m,\u001b[39m\u001b[39m'\u001b[39m)\n",
      "\u001b[1;31mNameError\u001b[0m: name 'MySQLdb' is not defined"
     ]
    }
   ],
   "source": [
    "mydb = MySQLdb.connect(host='localhost',\n",
    "        user='root',\n",
    "        passwd='',\n",
    "        db='rrhh6')\n",
    " \n",
    "with open ('jobs.csv') as csv_file:\n",
    "    csvfile = csv.reader(csv_file, delimiter=',')\n",
    "    all_values = []\n",
    "    for row in csvfile:\n",
    "        values = (row[0],row[1],row[2],row[3])\n",
    "        all_values.append(values)\n",
    "        \n",
    "query = \"INSERT INTO jobs (job_id, job_title, min_salary, max_salary) VALUES (%s, %s, %s, %s)\"\n",
    "mycursor = mydb.cursor()\n",
    "mycursor.executemany(query, all_values)\n",
    "mydb.commit()"
   ]
  }
 ],
 "metadata": {
  "kernelspec": {
   "display_name": "Python 3 (ipykernel)",
   "language": "python",
   "name": "python3"
  },
  "language_info": {
   "codemirror_mode": {
    "name": "ipython",
    "version": 3
   },
   "file_extension": ".py",
   "mimetype": "text/x-python",
   "name": "python",
   "nbconvert_exporter": "python",
   "pygments_lexer": "ipython3",
   "version": "3.9.7"
  },
  "vscode": {
   "interpreter": {
    "hash": "ad2bdc8ecc057115af97d19610ffacc2b4e99fae6737bb82f5d7fb13d2f2c186"
   }
  }
 },
 "nbformat": 4,
 "nbformat_minor": 2
}
